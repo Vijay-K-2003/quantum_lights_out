import networkx as nx
import numpy as np
import matplotlib.pyplot as plt





def generate_random_graph(n, i):
    G = nx.gnp_random_graph(n, p=0.5)
    
    while not nx.is_connected(G) and np.linalg.matrix_rank(get_adj_matrix(G, n)) == i:
        G = nx.gnp_random_graph(n, p=0.5)

    G.add_edges_from([(i, i) for i in range(n)])
    return G


def get_adj_matrix(G, n):
    mat = np.zeros((n, n))
    for i, j in G:
        mat[i][j] = mat[j][i] = 1
    return mat


n = 5

random_graph = generate_random_graph(n, n) # n, n for full rank matrix

print("Random Graph:")
print(random_graph.edges())
print(nx.adjacency_matrix(random_graph))
plt.figure(figsize=(6, 6))
nx.draw(random_graph, with_labels=True, node_color='skyblue', node_size=1500, font_size=12, font_weight='bold')
plt.title("Random Graph")
plt.show()


get_adj_matrix(random_graph.edges(), n)





def generate_grid(m, n):
    G = nx.grid_graph((m, n))
    return G


m = 4
n = 3

grid_graph = generate_grid(m, n)
mat = nx.adjacency_matrix(grid_graph).todense()
print(mat)

plt.figure(figsize=(6, 6))
nx.draw(grid_graph, with_labels=True, node_color='skyblue', node_size=1500, font_size=12, font_weight='bold')
plt.title("Random Graph")
plt.show()




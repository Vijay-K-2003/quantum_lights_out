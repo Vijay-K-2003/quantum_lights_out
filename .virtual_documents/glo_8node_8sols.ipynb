import math
import numpy as np
import networkx as nx
import matplotlib.pyplot as plt
from qiskit import transpile, QuantumCircuit, QuantumRegister, ClassicalRegister
from qiskit.circuit.library import UnitaryGate
from qiskit.visualization import plot_histogram
from qiskit_aer import Aer, AerSimulator


def nXOR(qc, qubits, output):
    for q in qubits:
        qc.cx(q, output)
    qc.barrier()

def XOR1(qc, a, output):
    qc.cx(a, output)
    qc.barrier()

def get_phase_gate(n):
    size = 2**n
    i = -np.eye(size)
    i[0][0] = 1
    phase_gate = UnitaryGate(i)
    return phase_gate


def diffuser(n):
    qc = QuantumCircuit(n)
    for q in range(n):
        qc.h(q)
    qc.append(get_phase_gate(n), range(n))
    for q in range(n):
        qc.h(q)
    U_s = qc.to_gate()
    U_s.name = "U_s"
    return U_s


def generate_clause_list(A, n):
    clause_list = []
    
    for i in range(n):
        l = []
        for j in range(n):
            if A.item((i, j)) == 1:
                l.append(j)
        clause_list.append(l)
    
    return clause_list


def lights_out_oracle(n, qc, var_qubits, p_qubits, eq_qubits, sol_qubit, c_bits, clause_list):
    
    qc.barrier()
    i = 0
    for clause in clause_list:
        clause = [var_qubits[c] for c in clause]
        nXOR(qc, clause, eq_qubits[i])
        i += 1
    
    for i in range(n):
        XOR1(qc, p_qubits[i], eq_qubits[i])
    qc.x(eq_qubits)
    
    qc.mcx(eq_qubits, sol_qubit)
    
    i = 0
    for clause in clause_list:
        clause = [var_qubits[c] for c in clause]
        nXOR(qc, clause, eq_qubits[i])
        i += 1
    
    for i in range(n):
        XOR1(qc, p_qubits[i], eq_qubits[i])
    qc.x(eq_qubits)
    
    qc.barrier()
    
    qc.append(diffuser(n), range(n))
    


def lights_out_solver(A, p, n, t, init_distribution):
    var_qubits = QuantumRegister(n, name='click')
    p_qubits = QuantumRegister(n, name='initial')
    eq_qubits = QuantumRegister(n, name='output')  
    sol_qubit = QuantumRegister(1, name='solution')
    c_bits = ClassicalRegister(n, name='classical')
    
    clause_list = generate_clause_list(A, n)
    qc = QuantumCircuit(var_qubits, p_qubits, eq_qubits, sol_qubit, c_bits)
    
    # INITIALIZATION
    # - STATE on SOLUTION QUBIT
    qc.x(sol_qubit)
    qc.h(sol_qubit)
    
    # Initial state to solve
    for i in range(n):
        if p[i] == 1:
            qc.x(p_qubits[i])
    
    
    # SUPERPOSITION OF BITSTRING WITH INITIAL DISTRIBUTION
    qc.initialize(init_distribution, var_qubits)
    
    for i in range(t):
        lights_out_oracle(n, qc, var_qubits, p_qubits, eq_qubits, sol_qubit, c_bits, clause_list)
    
    for i in range(n):
        qc.measure(var_qubits[i], c_bits[i])
    
    return qc


A = np.matrix([[1., 1., 0., 1., 1., 1., 1., 0.],
       [1., 1., 0., 1., 1., 1., 1., 0.],
       [0., 0., 1., 0., 1., 0., 1., 1.],
       [1., 1., 0., 1., 0., 1., 1., 1.],
       [1., 1., 1., 0., 1., 1., 0., 0.],
       [1., 1., 0., 1., 1., 1., 1., 0.],
       [1., 1., 1., 1., 0., 1., 1., 1.],
       [0., 0., 1., 1., 0., 0., 1., 1.]])
print(A)


G = nx.Graph(A - np.eye(A.shape[0]))
print("RANK : ", np.linalg.matrix_rank(A))

plt.figure(figsize=(6, 6))
nx.draw(G, with_labels=True, node_color='skyblue', node_size=1500, font_size=12, font_weight='bold')
plt.title("8 Node Graph")
plt.show()





import numpy as np

def hamming_weight(vector):
    return sum(vector)

def calculate_probability(alpha, vector):
    return alpha ** hamming_weight(vector)

def normalize_probabilities(alpha, vectors):
    total_probability = sum(calculate_probability(alpha, vector) for vector in vectors)
    return [calculate_probability(alpha, vector) / total_probability for vector in vectors]

def generate_vectors(length):
    return [[int(b) for b in format(i, '0' + str(length) + 'b')] for i in range(2**length)]

def probs():
    alpha = math.exp(1)
    length = 8
    vectors = generate_vectors(length)
    probabilities = normalize_probabilities(alpha, vectors)
    probabilities = reversed(probabilities)

    s = 0
    mp = {}
    for vector, probability in zip(vectors, probabilities):
        # if hamming_weight(vector) == 0:
        #     print("Vector:", vector, "Probability:", 0, "Coefficient:", 0)    
        v = "".join([str(i) for i in vector])
        p = probability
        c = p**0.5
        mp[v] = c
        # print("Vector:", "".join([str(i) for i in vector]), "Probability:", probability, "Coefficient:", probability**0.5)
        s += probability
    print("SUM : ", s)
    print(mp["00000000"], mp["11111111"])
    return mp



mp = probs()


p = [0, 0, 1, 0, 1, 0, 0, 1]
init_dist = list(mp.values())

print(init_dist[:10], init_dist[-10:])

# p = init_dist[0]**2
sq_p = [i**2 for i in init_dist]

add_all = sq_p[0] / len(sq_p)
sq_p[0] = 0
sq_p = [i + add_all for i in sq_p]

init_dist = [i**0.5 for i in sq_p]

qc = lights_out_solver(A, p, len(A), 2, init_dist)


qasm_simulator = Aer.get_backend('qasm_simulator')
transpiled_qc = transpile(qc, qasm_simulator)
result = qasm_simulator.run(transpiled_qc, shots=4096).result()
plot_histogram(result.get_counts(), figsize=(75, 20), title="Results for 8 Node graph with exponential input distribution")


res = result.get_counts()
print(sorted(res))


# Linear downscaling

n = 8

deno_sq = sum([(1 / (i+1))**2 * math.comb(n, i+1) for i in range(n)])
deno = math.sqrt(deno_sq)

p = []
for i in range(n):
    prob = 1 / ((i + 1) * deno)
    p.append(prob)

print("Normalization factor (deno):", deno)
print("List of probabilities:", p)

s = 0
for idx, i in enumerate(p):
    s += i**2 * float(math.comb(n, idx+1))
print("Sum of squared probabilities:", s)

def count_ones(bit_string):
    return bit_string.count('1')

def generate_bit_strings(n):
    bit_strings = []
    for i in range(2**n):
        bit_string = bin(i)[2:].zfill(n)
        bit_strings.append(bit_string)
    return bit_strings

def map_to_ones_count(bit_strings):
    ones_count_map = {}
    for bit_string in bit_strings:
        ones_count = count_ones(bit_string)
        if bit_string not in ones_count_map:
            ones_count_map[bit_string] = ones_count
    return ones_count_map

bit_strings = generate_bit_strings(n)
ones_count_map = map_to_ones_count(bit_strings)
prob_map = {"00000000": [0, 0]}
state = [0]
plt.figure(figsize=(6, 6))
nx.draw(G, with_labels=True, node_color='skyblue', node_size=1500, font_size=12, font_weight='bold')
plt.title("Random Graph")
plt.show()
for string, count in ones_count_map.items():
    if string != "00000000":
        state.append(p[count-1])
        prob_map[string] = []
        prob_map[string].append(p[count-1])
        prob_map[string].append(count_ones(string))
        print(f"{string} -> {count} -> {p[count-1]}")

s = 0
for i in state:
    s += i**2
print(len(state))


p = [0, 0, 1, 0, 1, 0, 0, 1]
qc = lights_out_solver(A, p, len(A), 2, state)


qasm_simulator = Aer.get_backend('qasm_simulator')
transpiled_qc = transpile(qc, qasm_simulator)
result = qasm_simulator.run(transpiled_qc, shots=4096).result()
plot_histogram(result.get_counts(), figsize=(75, 20), title="Results for 8 Node graph with linear input distribution")


results = []
for idx in range(5):
    qc = lights_out_solver(A, p, len(A), idx, state)
    qasm_simulator = Aer.get_backend('qasm_simulator')
    transpiled_qc = transpile(qc, qasm_simulator)
    result = qasm_simulator.run(transpiled_qc, shots=4096).result()
    results.append(result.get_counts())
    # plot_histogram(result.get_counts(), figsize=(75, 20), title=f"Results for 8 Node graph with linear input distribution and {idx} runs.")


plot_histogram(results[0], figsize=(75, 20), title=f"Results for 8 Node graph with linear input distribution and {0} runs.")


plot_histogram(results[1], figsize=(75, 20), title=f"Results for 8 Node graph with linear input distribution and {1} runs.")


plot_histogram(results[2], figsize=(75, 20), title=f"Results for 8 Node graph with linear input distribution and {2} runs.")


plot_histogram(results[3], figsize=(75, 20), title=f"Results for 8 Node graph with linear input distribution and {3} runs.")


plot_histogram(results[4], figsize=(75, 20), title=f"Results for 8 Node graph with linear input distribution and {4} runs.")


results = []
for idx in [5, 6, 7, 8, 9]:
    qc = lights_out_solver(A, p, len(A), idx, state)
    qasm_simulator = Aer.get_backend('qasm_simulator')
    transpiled_qc = transpile(qc, qasm_simulator)
    result = qasm_simulator.run(transpiled_qc, shots=4096).result()
    results.append(result.get_counts())
    # plot_histogram(result.get_counts(), figsize=(75, 20), title=f"Results for 8 Node graph with linear input distribution and {idx} runs.")


plot_histogram(results[0], figsize=(75, 20), title=f"Results for 8 Node graph with linear input distribution and {5} runs.")


plot_histogram(results[1], figsize=(75, 20), title=f"Results for 8 Node graph with linear input distribution and {6} runs.")


plot_histogram(results[2], figsize=(75, 20), title=f"Results for 8 Node graph with linear input distribution and {7} runs.")


plot_histogram(results[3], figsize=(75, 20), title=f"Results for 8 Node graph with linear input distribution and {8} runs.")


plot_histogram(results[4], figsize=(75, 20), title=f"Results for 8 Node graph with linear input distribution and {9} runs.")


results[2]




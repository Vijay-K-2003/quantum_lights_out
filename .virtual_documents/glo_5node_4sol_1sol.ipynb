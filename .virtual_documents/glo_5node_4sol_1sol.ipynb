import numpy as np
import math
import numpy as np
import networkx as nx
import matplotlib.pyplot as plt
from qiskit import transpile, QuantumCircuit, QuantumRegister, ClassicalRegister
from qiskit.circuit.library import UnitaryGate
from qiskit.visualization import plot_histogram
from qiskit_aer import Aer, AerSimulator





def nXOR(qc, qubits, output):
    for q in qubits:
        qc.cx(q, output)
    qc.barrier()

def XOR1(qc, a, output):
    qc.cx(a, output)
    qc.barrier()

def get_phase_gate(n):
    size = 2**n
    i = -np.eye(size)
    i[0][0] = 1
    phase_gate = UnitaryGate(i)
    return phase_gate


def diffuser(n):
    qc = QuantumCircuit(n)
    for q in range(n):
        qc.h(q)
    qc.append(get_phase_gate(n), range(n))
    for q in range(n):
        qc.h(q)
    U_s = qc.to_gate()
    U_s.name = "U_s"
    return U_s


def generate_clause_list(A, n):
    clause_list = []
    
    for i in range(n):
        l = []
        for j in range(n):
            if A.item((i, j)) == 1:
                l.append(j)
        clause_list.append(l)
    
    return clause_list


def lights_out_oracle(n, qc, var_qubits, p_qubits, eq_qubits, sol_qubit, c_bits, clause_list):
    
    qc.barrier()
    i = 0
    for clause in clause_list:
        clause = [var_qubits[c] for c in clause]
        nXOR(qc, clause, eq_qubits[i])
        i += 1
    
    for i in range(n):
        XOR1(qc, p_qubits[i], eq_qubits[i])
    qc.x(eq_qubits)
    
    qc.mcx(eq_qubits, sol_qubit)
    
    i = 0
    for clause in clause_list:
        clause = [var_qubits[c] for c in clause]
        nXOR(qc, clause, eq_qubits[i])
        i += 1
    
    for i in range(n):
        XOR1(qc, p_qubits[i], eq_qubits[i])
    qc.x(eq_qubits)
    
    qc.barrier()
    
    qc.append(diffuser(n), range(n))
    


def lights_out_solver(A, p, n, t):
    var_qubits = QuantumRegister(n, name='click')
    p_qubits = QuantumRegister(n, name='initial')
    eq_qubits = QuantumRegister(n, name='output')  
    sol_qubit = QuantumRegister(1, name='solution')
    c_bits = ClassicalRegister(n, name='classical')
    
    clause_list = generate_clause_list(A, n)
    qc = QuantumCircuit(var_qubits, p_qubits, eq_qubits, sol_qubit, c_bits)
    
    # INITIALIZATION
    # - STATE on SOLUTION QUBIT
    qc.x(sol_qubit)
    qc.h(sol_qubit)
    
    # Initial state to solve
    for i in range(n):
        if p[i] == 1:
            qc.x(p_qubits[i])
    
    
    # SUPERPOSITION OF BITSTRING with UNIFORM DISTRIBUTION
    qc.h(var_qubits)
    
    for i in range(t):
        lights_out_oracle(n, qc, var_qubits, p_qubits, eq_qubits, sol_qubit, c_bits, clause_list)
    
    for i in range(n):
        qc.measure(var_qubits[i], c_bits[i])
    
    return qc





A = np.matrix([[1., 0., 1., 0., 0.],
       [0., 1., 1., 1., 1.],
       [1., 1., 1., 1., 1.],
       [0., 1., 1., 1., 1.],
       [0., 1., 1., 1., 1.]])
print(A)


G = nx.Graph(A - np.eye(A.shape[0]))


print("RANK : ", np.linalg.matrix_rank(A))


plt.figure(figsize=(6, 6))
nx.draw(G, with_labels=True, node_color='skyblue', node_size=1500, font_size=12, font_weight='bold')
plt.title("5 Node graph with rank 3")
plt.show()


# p = [1, 1, 0, 1, 1]
# qc = lights_out_solver(A, p, len(A), 2)


# qasm_simulator = Aer.get_backend('qasm_simulator')
# transpiled_qc = transpile(qc, qasm_simulator)
# result = qasm_simulator.run(transpiled_qc, shots=4096).result()
# plot_histogram(result.get_counts(), figsize=(20, 10), title="5 Node graph with 4 solutions")


p = [1, 1, 0, 1, 1]
results = []
n_count = 4096.0
for i in range(13):
    qc = lights_out_solver(A, p, len(A), i)
    qasm_simulator = Aer.get_backend('qasm_simulator')
    transpiled_qc = transpile(qc, qasm_simulator)
    result = qasm_simulator.run(transpiled_qc, shots=n_count).result()
    results.append(result.get_counts())
    print("Done:", i)


plot_histogram(results[6], figsize=(20, 15), title="5 Node Graph with 4 solution")


cnts = results[6]
# cnts = {k: v for k, v in cnts.items() if v >= 8}
cnts = dict(sorted(
    cnts.items(),
    key=lambda item: 1.0/item[0].count('1')  # Hamming weight is the count of '1's in the key
))
keys = list(cnts.keys())
vals = list(cnts.values())
vals = [val/n_count for val in vals]

plt.figure(figsize=(4, 6))
plt.barh(keys, vals)
plt.xlabel("Probability Amplitude")
plt.ylabel("Input Strings")
plt.show()


plot_histogram(results[0], figsize=(20, 15), title="5 Node Graph with 4 solution")





A = np.matrix([[1., 1., 1., 0., 1.],
               [1., 1., 0., 0., 0.],
               [1., 0., 1., 0., 0.],
               [0., 0., 0., 1., 1.],
               [1., 0., 0., 1., 1.]])



G = nx.Graph(A - np.eye(A.shape[0]))


print("RANK : ", np.linalg.matrix_rank(A))


plt.figure(figsize=(6, 6))
nx.draw(G, with_labels=True, node_color='skyblue', node_size=1500, font_size=12, font_weight='bold')
plt.title("5 Node Graph with one solution")
plt.show()


p = [1, 0, 1, 0, 1]
qc = lights_out_solver(A, p, len(A), 3)
n_counts=4096.0


qasm_simulator = Aer.get_backend('qasm_simulator')
transpiled_qc = transpile(qc, qasm_simulator)
result = qasm_simulator.run(transpiled_qc, shots=4096).result()
plot_histogram(result.get_counts(), figsize=(20, 10), title="5 Node Graph with 1 solution")


cnts = result.get_counts()
# cnts = {k: v for k, v in cnts.items() if v >= 8}
cnts = dict(sorted(
    cnts.items(),
    key=lambda item: 1.0/(item[0].count('1')+1)  # Hamming weight is the count of '1's in the key
))
keys = list(cnts.keys())
vals = list(cnts.values())
vals = [val/n_count for val in vals]

plt.figure(figsize=(4, 6))
plt.barh(keys, vals)
plt.xlabel("Probability Amplitude")
plt.ylabel("Input Strings")
plt.show()


results = []
for i in range(13):
    qc = lights_out_solver(A, p, len(A), i)
    qasm_simulator = Aer.get_backend('qasm_simulator')
    transpiled_qc = transpile(qc, qasm_simulator)
    result = qasm_simulator.run(transpiled_qc, shots=4096).result()
    results.append(result.get_counts())
    print("Done:", i)


plot_histogram(results[0], figsize=(20, 15), title="5 Node Graph with 1 solution")


plot_histogram(results[1], figsize=(20, 15), title="5 Node Graph with 1 solution")


plot_histogram(results[2], figsize=(20, 15), title="5 Node Graph with 1 solution")


plot_histogram(results[3], figsize=(20, 15), title="5 Node Graph with 1 solution")


plot_histogram(results[4], figsize=(20, 15), title="5 Node Graph with 1 solution")


plot_histogram(results[5], figsize=(20, 15), title="5 Node Graph with 1 solution")


plot_histogram(results[6], figsize=(20, 15), title="5 Node Graph with 1 solution")


plot_histogram(results[7], figsize=(20, 15), title="5 Node Graph with 1 solution")


plot_histogram(results[8], figsize=(20, 15), title="5 Node Graph with 1 solution")


plot_histogram(results[9], figsize=(20, 15), title="5 Node Graph with 1 solution")


plot_histogram(results[10], figsize=(20, 15), title="5 Node Graph with 1 solution")


plot_histogram(results[11], figsize=(20, 15), title="5 Node Graph with 1 solution")


plot_histogram(results[12], figsize=(20, 15), title="5 Node Graph with 1 solution")




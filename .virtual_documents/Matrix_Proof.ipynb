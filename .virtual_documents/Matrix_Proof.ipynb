import math
import matplotlib.pyplot as plt
import networkx as nx
import numpy as np


# Linear functional mapping

n = 8

deno_sq = [(1 / (i+1))**2 * math.comb(n, i) for i in range(n+1)]
deno_sq[0] = 0
deno_sq = sum(deno_sq)
deno = math.sqrt(deno_sq)

p = []
for i in range(n+1):
    prob = 1 / ((i + 1) * deno)
    if i == 0:
        prob = 0
    p.append(prob)

print("Normalization factor (deno):", deno)
print("List of probabilities:", p)

s = 0
for idx, i in enumerate(p):
    s += i**2 * float(math.comb(n, idx))
print("Sum of squared probabilities:", s)

def count_ones(bit_string):
    return bit_string.count('1')

def generate_bit_strings(n):
    bit_strings = []
    for i in range(2**n):
        bit_string = bin(i)[2:].zfill(n)
        bit_strings.append(bit_string)
    return bit_strings

def map_to_ones_count(bit_strings):
    ones_count_map = {}
    for bit_string in bit_strings:
        ones_count = count_ones(bit_string)
        if bit_string not in ones_count_map:
            ones_count_map[bit_string] = ones_count
    return ones_count_map

bit_strings = generate_bit_strings(n)
print(len(bit_strings))
ones_count_map = map_to_ones_count(bit_strings)
print(len(ones_count_map))
prob_map = {"00000000": [0, 0]}
state = []
for string, count in ones_count_map.items():
        state.append(p[count])
        prob_map[string] = []
        prob_map[string].append(p[count])
        prob_map[string].append(count_ones(string))
        # print(f"{string} -> {count} -> {p[count]}")

s = 0
for i in state:
    s += i**2

print(state)


U = np.array(state)
N = 2**8
# U[0] = 1e-6
print(U.T)
# U = U/np.linalg.norm(U)
# print(U.T)


I = np.eye(N)


V = np.ones((N,1)) / math.sqrt(N) # col[1/sqrt(N); 1/sqrt(N)]row[1/N, 1/N]


print(V.shape)


VV = V@V.T
print(sum(sum(VV)))


VAL = 2*VV-I
print(VAL*VAL.T)


Zf = np.eye(N)
# 198 | 6 , 66 , 130

Zf[198, 198] = -1
Zf[6, 6] = -1
Zf[66, 66] = -1
Zf[130, 130] = -1
# print(Zf)


# Be careful with matrix multiplication
# Multiply using @ operator
# For power of a matrix use np.linalg.matrix_power
sol = np.linalg.matrix_power((2*VV - I) @ Zf, 6) @ U


print(sol)


print(sol[6], sol[66], sol[130], sol[198])


sum([sol[6]**2, sol[66]**2, sol[130]**2, sol[198]**2])


sum(sol*sol)


G = (2*VV - I) @ Zf
print(G)
U0 = (np.array(state) + Zf@(np.array(state)))/2
print(U0)


prob_non_solution = []
for t in range(100):
    sol = np.linalg.matrix_power(G, t) @ U
    sol[6] = sol[66]=sol[130]=sol[198] = 0
    # print(np.linalg.norm(sol))
    prob_non_solution.append(np.linalg.norm(sol)**2)


plt.figure(figsize=(10,4))
plt.plot(prob_non_solution)
plt.axvline(x=6, color='r', linestyle='--', label="x = 6")
plt.xlabel("Number of Iterations t")
plt.ylabel("Probability of non solution states")
plt.show()


# argmin t ((I + Zf) @ G^t @ U) / 2 


probabilities = []
for t in range(10):
    sol = (np.linalg.matrix_power(G, t) @ U + Zf @ np.linalg.matrix_power(G, t) @ U) / 2
    # sol[6] = sol[66]=sol[130]=sol[198] = 0
    print(np.linalg.norm(sol)**2)
    probabilities.append(np.linalg.norm(sol)**2)




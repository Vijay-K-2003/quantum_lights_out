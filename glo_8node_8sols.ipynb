{
 "cells": [
  {
   "cell_type": "code",
   "execution_count": 1,
   "id": "2bb6a951-fb36-4a62-ad90-7f7e6b114af8",
   "metadata": {},
   "outputs": [],
   "source": [
    "import math\n",
    "import numpy as np\n",
    "import networkx as nx\n",
    "import matplotlib.pyplot as plt\n",
    "from qiskit import transpile, QuantumCircuit, QuantumRegister, ClassicalRegister\n",
    "from qiskit.circuit.library import UnitaryGate\n",
    "from qiskit.visualization import plot_histogram\n",
    "from qiskit_aer import Aer, AerSimulator"
   ]
  },
  {
   "cell_type": "code",
   "execution_count": 2,
   "id": "40b120e7-c1e7-461d-bd33-6605c53361fa",
   "metadata": {},
   "outputs": [],
   "source": [
    "def nXOR(qc, qubits, output):\n",
    "    for q in qubits:\n",
    "        qc.cx(q, output)\n",
    "    qc.barrier()\n",
    "\n",
    "def XOR1(qc, a, output):\n",
    "    qc.cx(a, output)\n",
    "    qc.barrier()\n",
    "\n",
    "def get_phase_gate(n):\n",
    "    size = 2**n\n",
    "    i = -np.eye(size)\n",
    "    i[0][0] = 1\n",
    "    phase_gate = UnitaryGate(i)\n",
    "    return phase_gate"
   ]
  },
  {
   "cell_type": "code",
   "execution_count": 3,
   "id": "cc133173-278c-4648-a14d-694958b52c76",
   "metadata": {},
   "outputs": [],
   "source": [
    "def diffuser(n):\n",
    "    qc = QuantumCircuit(n)\n",
    "    for q in range(n):\n",
    "        qc.h(q)\n",
    "    qc.append(get_phase_gate(n), range(n))\n",
    "    for q in range(n):\n",
    "        qc.h(q)\n",
    "    U_s = qc.to_gate()\n",
    "    U_s.name = \"U_s\"\n",
    "    return U_s"
   ]
  },
  {
   "cell_type": "code",
   "execution_count": 4,
   "id": "44970774-b752-4817-9e31-d027b3d5c7f6",
   "metadata": {},
   "outputs": [],
   "source": [
    "def generate_clause_list(A, n):\n",
    "    clause_list = []\n",
    "    \n",
    "    for i in range(n):\n",
    "        l = []\n",
    "        for j in range(n):\n",
    "            if A.item((i, j)) == 1:\n",
    "                l.append(j)\n",
    "        clause_list.append(l)\n",
    "    \n",
    "    return clause_list"
   ]
  },
  {
   "cell_type": "code",
   "execution_count": 5,
   "id": "7c62a6ca-7ff1-4276-8079-b1bd8b6a122c",
   "metadata": {},
   "outputs": [],
   "source": [
    "def lights_out_oracle(n, qc, var_qubits, p_qubits, eq_qubits, sol_qubit, c_bits, clause_list):\n",
    "    \n",
    "    qc.barrier()\n",
    "    i = 0\n",
    "    for clause in clause_list:\n",
    "        clause = [var_qubits[c] for c in clause]\n",
    "        nXOR(qc, clause, eq_qubits[i])\n",
    "        i += 1\n",
    "    \n",
    "    for i in range(n):\n",
    "        XOR1(qc, p_qubits[i], eq_qubits[i])\n",
    "    qc.x(eq_qubits)\n",
    "    \n",
    "    qc.mcx(eq_qubits, sol_qubit)\n",
    "    \n",
    "    i = 0\n",
    "    for clause in clause_list:\n",
    "        clause = [var_qubits[c] for c in clause]\n",
    "        nXOR(qc, clause, eq_qubits[i])\n",
    "        i += 1\n",
    "    \n",
    "    for i in range(n):\n",
    "        XOR1(qc, p_qubits[i], eq_qubits[i])\n",
    "    qc.x(eq_qubits)\n",
    "    \n",
    "    qc.barrier()\n",
    "    \n",
    "    qc.append(diffuser(n), range(n))\n",
    "    "
   ]
  },
  {
   "cell_type": "code",
   "execution_count": 6,
   "id": "f010e4ba-dc80-491b-8cdd-281d2e9fba8d",
   "metadata": {},
   "outputs": [],
   "source": [
    "def lights_out_solver(A, p, n, t, init_distribution):\n",
    "    var_qubits = QuantumRegister(n, name='click')\n",
    "    p_qubits = QuantumRegister(n, name='initial')\n",
    "    eq_qubits = QuantumRegister(n, name='output')  \n",
    "    sol_qubit = QuantumRegister(1, name='solution')\n",
    "    c_bits = ClassicalRegister(n, name='classical')\n",
    "    \n",
    "    clause_list = generate_clause_list(A, n)\n",
    "    qc = QuantumCircuit(var_qubits, p_qubits, eq_qubits, sol_qubit, c_bits)\n",
    "    \n",
    "    # INITIALIZATION\n",
    "    # - STATE on SOLUTION QUBIT\n",
    "    qc.x(sol_qubit)\n",
    "    qc.h(sol_qubit)\n",
    "    \n",
    "    # Initial state to solve\n",
    "    for i in range(n):\n",
    "        if p[i] == 1:\n",
    "            qc.x(p_qubits[i])\n",
    "    \n",
    "    \n",
    "    # SUPERPOSITION OF BITSTRING WITH INITIAL DISTRIBUTION\n",
    "    qc.initialize(init_distribution, var_qubits)\n",
    "    \n",
    "    for i in range(t):\n",
    "        lights_out_oracle(n, qc, var_qubits, p_qubits, eq_qubits, sol_qubit, c_bits, clause_list)\n",
    "    \n",
    "    for i in range(n):\n",
    "        qc.measure(var_qubits[i], c_bits[i])\n",
    "    \n",
    "    return qc"
   ]
  },
  {
   "cell_type": "code",
   "execution_count": null,
   "id": "726fbc70-3e87-4d59-9f42-70f96ac9b073",
   "metadata": {},
   "outputs": [],
   "source": [
    "A = np.matrix([\n",
    "    \n",
    "])"
   ]
  }
 ],
 "metadata": {
  "kernelspec": {
   "display_name": "Python 3 (ipykernel)",
   "language": "python",
   "name": "python3"
  },
  "language_info": {
   "codemirror_mode": {
    "name": "ipython",
    "version": 3
   },
   "file_extension": ".py",
   "mimetype": "text/x-python",
   "name": "python",
   "nbconvert_exporter": "python",
   "pygments_lexer": "ipython3",
   "version": "3.11.7"
  }
 },
 "nbformat": 4,
 "nbformat_minor": 5
}
